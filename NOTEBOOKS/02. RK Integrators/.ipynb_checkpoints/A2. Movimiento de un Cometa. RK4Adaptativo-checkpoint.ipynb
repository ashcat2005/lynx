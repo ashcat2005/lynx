{
 "cells": [
  {
   "cell_type": "markdown",
   "metadata": {},
   "source": [
    "![Astrofisica Computacional](../../logo.PNG)"
   ]
  },
  {
   "cell_type": "markdown",
   "metadata": {},
   "source": [
    "---\n",
    "\n",
    "Eduard Larrañaga (ealarranaga@unal.edu.co)\n",
    "\n",
    "---"
   ]
  },
  {
   "cell_type": "markdown",
   "metadata": {
    "id": "-AlVXAp0hOzb"
   },
   "source": [
    "---\n",
    "\n",
    "# Ejercicio 03. Ecuaciones Diferenciales Ordinarias I\n",
    "\n",
    "\n",
    "## A. Movimiento de un Cometa \n"
   ]
  },
  {
   "cell_type": "markdown",
   "metadata": {},
   "source": [
    "Existen muchos cometas que orbitan alrededor del Sol con trayectorias elípticas. De acuerdo con las leyes de Kepler, cuando el cometa se encuentra lejos del centro de fuerza, su movimiento es lento, mientras que al acercarse al Sol su velocidad es bastante grande. Este es un sistema físico que claramente debería ser solucionado con un método de paso adaptativo: en la región lejana se pueden utilizar pasos grandes mientras que en la región cercana se necesitan pasos muy cortos para tener un error pequeño.\n",
    "\n",
    "Utilizando coordenadas cartesianas en el plano de movimiento, la dinámica del cometa bajo la influencia Solar está descrito por las ecuaciones \n",
    "\\begin{align}\n",
    "    \\frac{d^2x}{dt^2} = &-GM \\frac{x}{r^3} \\\\\n",
    "    \\frac{d^2y}{dt^2} = &-GM \\frac{y}{r^3}\n",
    "\\end{align}\n",
    "donde $r = \\sqrt{x^2 + y^2}$, $G$ es la constante gravitacional de Newton y $M$ es la masa del Sol.\n",
    "\n",
    "---\n",
    "\n",
    "2. Ahora escriba un programa que resuelva el problema utilizando uno de los métodos RK con paso adaptativo. Establezca la tolerancia de tal forma que se tenga una precisión de $1 \\text{ km}$ por año en la posición del cometa. Como se comparan los resultadosde los dos métodos?\n",
    "    Realice un gráfico de $x$ vs. $t$ y otro de $y$ vs. $t$ localizando los puntos correspondientes a los calculos con paso adaptativo para confirmar que el tamaño cambia de acuerdo a la ubicación del cometa con respecto al Sol."
   ]
  },
  {
   "cell_type": "markdown",
   "metadata": {
    "id": "tIe7Lt0dhOzm"
   },
   "source": [
    "---\n",
    "**Solución**\n",
    "\n",
    "Al igual que en el punto anterior, utilizaremos un sistema de unidades adecuado para describir el Sistema Solar así:\n",
    "\n",
    "- unidad de masa: masa Solar $[M_{\\odot }]$\n",
    "- unidad distancia: Unidad Astronómica [au]\n",
    "- unidad de tiempo: años [yr]\n",
    "\n",
    "Utilizando este sistema de unidades, la constante gravitacional de Newton tendrá un valor de $G = 4\\pi^2$,"
   ]
  },
  {
   "cell_type": "markdown",
   "metadata": {
    "id": "K6-NqMgehOzp"
   },
   "source": [
    "De esta forma, implementaremos ua función llamada `f` que retornará el lado derecho de las ecuaciones diferenciales de movimiento y una función denominada `conserv_quant` que calculas las cantidades conservadas del problema (energía y momento angular)."
   ]
  },
  {
   "cell_type": "code",
   "execution_count": 1,
   "metadata": {
    "executionInfo": {
     "elapsed": 257,
     "status": "ok",
     "timestamp": 1622989690312,
     "user": {
      "displayName": "Eduard Alexis Larranaga",
      "photoUrl": "https://lh3.googleusercontent.com/a-/AOh14GgCVABzEgj-rCdyxWa29RnA0kIYUCXAaVbnRYOEhQ=s64",
      "userId": "04402438389940282602"
     },
     "user_tz": 300
    },
    "id": "JUjUaLSIhOzp"
   },
   "outputs": [],
   "source": [
    "import numpy as np\n",
    "\n",
    "# Newtonian Gravitational Constant\n",
    "G = 4.*np.pi**2\n",
    "M = 1.\n",
    "\n",
    "def f(t0, q0):\n",
    "    '''\n",
    "    ------------------------------------------\n",
    "    f(t0, q0) \n",
    "    ------------------------------------------\n",
    "    ODEs system for the motion of a comet \n",
    "    around the Sun using cartesian coordinates\n",
    "    in the orbital plane.\n",
    "    ------------------------------------------\n",
    "    Arguments:\n",
    "    t0: initial time\n",
    "    q0: numpy array with the initial condition\n",
    "        data:\n",
    "        q0[0] = x\n",
    "        q0[1] = y\n",
    "        q0[2] = dx/dt\n",
    "        q0[3] = dy/dt\n",
    "    ------------------------------------------\n",
    "    Dependeces: NumPy\n",
    "    ------------------------------------------\n",
    "    '''\n",
    "    f = np.zeros(4)\n",
    "    f[0] = q0[2]\n",
    "    f[1] = q0[3]\n",
    "    f[2] = - G*M*q0[0]/(q0[0]**2 + q0[1]**2)**(3/2)\n",
    "    f[3] = - G*M*q0[1]/(q0[0]**2 + q0[1]**2)**(3/2)\n",
    "    return f\n",
    "\n",
    "def conserv_quant(q):\n",
    "    '''\n",
    "    ------------------------------------------\n",
    "    conserv_quant(q)\n",
    "    ------------------------------------------\n",
    "    Evaluates the total energy and the total \n",
    "    angular momentum for the system \n",
    "    ------------------------------------------\n",
    "    Arguments:\n",
    "    q: NumPy array with the state of the \n",
    "       system in the format\n",
    "       q = [t, x, y, vx, vy]\n",
    "    ------------------------------------------\n",
    "    Returns:\n",
    "    E : Total Energy\n",
    "    L : Total Angular Momentum\n",
    "    ------------------------------------------\n",
    "    Dependeces: NumPy\n",
    "    ------------------------------------------\n",
    "    '''\n",
    "    CQ = np.zeros([len(q),3])\n",
    "    CQ[:,0] = q[:,0] \n",
    "    v2 = q[:,3]**2 + q[:,4]**2\n",
    "    r = np.sqrt(q[:,1]**2 + q[:,2]**2)\n",
    "    E = v2/2 - G*M/r\n",
    "    L = q[:,1]*q[:,4] - q[:,2]*q[:,3]\n",
    "    CQ[:,1] = E\n",
    "    CQ[:,2] = L\n",
    "    return CQ\n"
   ]
  },
  {
   "cell_type": "markdown",
   "metadata": {
    "id": "hlk1CXxCxqTi"
   },
   "source": [
    "**Condición Inicial**\n",
    "\n",
    "Como establece el enunciado del ejercicio, se impondrán las siguientes condiciones iniciales:\n",
    "\n",
    "\\begin{equation}\n",
    "        \\begin{cases}\n",
    "            x = &4 \\times 10^9 \\text{ km}\\\\\n",
    "            y = &0 \\text{ km}\\\\\n",
    "            v^x = &0  \\text{ m/s}\\\\\n",
    "            v^y = &500 \\text{ m/s}.\n",
    "        \\end{cases}\n",
    "    \\end{equation}\n",
    "    \n",
    "Transformamos esta información a las unidades establecidas arriba,"
   ]
  },
  {
   "cell_type": "code",
   "execution_count": 2,
   "metadata": {},
   "outputs": [
    {
     "data": {
      "text/plain": [
       "(26.737967914438503, 0.10541443850267379)"
      ]
     },
     "execution_count": 2,
     "metadata": {},
     "output_type": "execute_result"
    }
   ],
   "source": [
    "# Initial Conditions\n",
    "x = 4e9 # [km]\n",
    "y = 0 # [km]\n",
    "vx = 0 # [m/s]\n",
    "vy = 500 # [m/s]\n",
    "\n",
    "# Conversion Factors\n",
    "au2m = 1.496e11  # 1au in meters\n",
    "yr2s = 3.154e7   # 1yr in seconds\n",
    "\n",
    "# Transformation\n",
    "x *= 1000/au2m # [au]\n",
    "y *= 1000/au2m # [au]\n",
    "vx *= yr2s/au2m # [au/yr]\n",
    "vy *= yr2s/au2m # [au/yr]\n",
    "\n",
    "\n",
    "x, vy"
   ]
  },
  {
   "cell_type": "markdown",
   "metadata": {
    "id": "vzMNwoIQQ4Zm"
   },
   "source": [
    "## Solución del sistema ODEs\n",
    "\n",
    "Definiremos la función que utilizará el método RK4 adaptativo, con un valor inicial de $dt=1\\times 10^{-2}$. Se calculará la trayectoria desde $t_0 = 0$ años hasta $t_f = 300$ años. Para evitar. un calculo demasiado extenso, se impondra también un límite de $n$ nodos."
   ]
  },
  {
   "cell_type": "code",
   "execution_count": 167,
   "metadata": {
    "scrolled": false
   },
   "outputs": [
    {
     "name": "stdout",
     "output_type": "stream",
     "text": [
      "Se concluye al llegar al tiempo t_f = 301.16, completando un total de 5659 datos.\n",
      "\n",
      "El tiempo de compute fue: 0.2291269302368164\n"
     ]
    }
   ],
   "source": [
    "# Computation time\n",
    "import time\n",
    "\n",
    "# Adaptative Runge-Kutta 4 Algorithm\n",
    "def ARK4(ODE, t0, q0, tf, n, dt = 1e-2, epsilon = 1e-8):\n",
    "    '''\n",
    "    ------------------------------------------\n",
    "    RK4(ODE, t0, q0, tf, n, dt, epsilon)\n",
    "    Adaptative 4th Order Runge-Kutta method \n",
    "    for solving a system of ODEs.\n",
    "    ------------------------------------------\n",
    "    Arguments:\n",
    "    ODE: function defining the system of ODEs\n",
    "    t0: independent parameter initial value\n",
    "    q0: numpy array with the initial values of\n",
    "        the functions in the ODEs system\n",
    "    tf: independent parameter final value\n",
    "    n: Max number of steps for the integration\n",
    "    dt: Initial value of the stepsize\n",
    "    epsilon: Tolerance of the adaptative \n",
    "             method\n",
    "    ------------------------------------------\n",
    "    Dependences: NumPy\n",
    "    ------------------------------------------\n",
    "    '''\n",
    "    # Initial Condition\n",
    "    q = np.zeros([n,len(q0)+1])\n",
    "    q[0,0] = t0\n",
    "    q[0,1:] = q0\n",
    "    \n",
    "    # k-functions for the RK4 algorithm\n",
    "    def ks(qn,dt):\n",
    "        k1 = dt*ODE(qn[0], qn[1:])\n",
    "        k2 = dt*ODE(qn[0] + dt/2, qn[1:] + k1[:]/2)\n",
    "        k3 = dt*ODE(qn[0] + dt/2, qn[1:] + k2[:]/2)\n",
    "        k4 = dt*ODE(qn[0] + dt, qn[1:] + k3[:])\n",
    "        return (k1 + 2*k2 + 2*k3 + k4)/6\n",
    "    \n",
    "    # time and index counters\n",
    "    time = t0\n",
    "    i = 1\n",
    "    while i<n-1 and time<tf:\n",
    "        # 2 steps with dt\n",
    "        q[i,1:] = q[i-1,1:] + ks(q[i-1,:],dt)[:]\n",
    "        q[i+1,1:] = q[i,1:] + ks(q[i,:],dt)[:]\n",
    "        q1 = q[i+1,1:]\n",
    "        # 1 step with 2dt\n",
    "        q2 = q[i-1,1:] + ks(q[i-1,:],2*dt)[:]\n",
    "        \n",
    "        Theta = np.sqrt((q1[0]-q2[0])**2 + (q1[1]-q2[1])**2)/(30*dt*epsilon)\n",
    "        if Theta<1:\n",
    "            q[i,0] = q[i-1,0] + dt\n",
    "            q[i+1,0] = q[i,0] + dt\n",
    "            time += 2*dt\n",
    "            i += 2\n",
    "            dt = dt*(Theta**(-0.25))\n",
    "        else:\n",
    "            dt = dt*(Theta**(-0.25))\n",
    "            continue\n",
    "    Q = q[:i] # Keep only the obtained data (discard extra zeros in the array)\n",
    "    print(f'Se concluye al llegar al tiempo t_f = {time:.2f}, completando un total de {i:g} datos.\\n')\n",
    "    return Q\n",
    "\n",
    "\n",
    "# Creation of the time grid (in years)\n",
    "t0 = 0.\n",
    "tf = 300.\n",
    "\n",
    "# Number of steps in the grid\n",
    "n = 500000\n",
    "\n",
    "# Constant stepsize defined by the number of steps in the grid\n",
    "#dt = (tf - t0)/n\n",
    "\n",
    "# Initial Conditions\n",
    "Q0 = np.array([x, y, vx, vy])\n",
    "\n",
    "# Solving the System\n",
    "start = time.time()\n",
    "Q = ARK4(f, t0, Q0, tf, n)\n",
    "conservedQuantities = conserv_quant(Q)\n",
    "end = time.time()\n",
    "print('El tiempo de compute fue:', end - start)"
   ]
  },
  {
   "cell_type": "markdown",
   "metadata": {},
   "source": [
    "Visualizamos la coordenada x para contar un total de 6 orbitas alrededor del Sol,"
   ]
  },
  {
   "cell_type": "code",
   "execution_count": 168,
   "metadata": {},
   "outputs": [
    {
     "data": {
      "image/png": "[encoded data removed]",
      "text/plain": [
       "<Figure size 1008x360 with 1 Axes>"
      ]
     },
     "metadata": {
      "needs_background": "light"
     },
     "output_type": "display_data"
    }
   ],
   "source": [
    "import matplotlib.pyplot as plt\n",
    "%matplotlib inline\n",
    "\n",
    "fig, ax = plt.subplots(figsize=(14,5))\n",
    "ax.plot(Q[:,0], Q[:,1], color='cornflowerblue')\n",
    "ax.set_title('Adaptative RK4 Method - x-Coordinate')\n",
    "ax.set_xlabel(r'$t$ [yr]')\n",
    "ax.set_ylabel(r'$x$ [au]')\n",
    "#ax.legend()\n",
    "\n",
    "plt.show()"
   ]
  },
  {
   "cell_type": "code",
   "execution_count": 169,
   "metadata": {},
   "outputs": [
    {
     "data": {
      "image/png": "[encoded data removed]",
      "text/plain": [
       "<Figure size 1008x360 with 2 Axes>"
      ]
     },
     "metadata": {
      "needs_background": "light"
     },
     "output_type": "display_data"
    }
   ],
   "source": [
    "import matplotlib.pyplot as plt\n",
    "%matplotlib inline\n",
    "\n",
    "fig, ax = plt.subplots(1,2, figsize=(14,5))\n",
    "ax[0].plot(Q[:,1], Q[:,2], color='cornflowerblue')#, label=f'$dt=$ {dt:.2e} yr')\n",
    "ax[0].set_title('Adaptative RK4 Method - Orbit')\n",
    "ax[0].set_xlabel(r'$x$ [au]')\n",
    "ax[0].set_ylabel(r'$y$ [au]')\n",
    "#ax[0].legend()\n",
    "\n",
    "ax[1].plot(conservedQuantities[:,0], conservedQuantities[:,1], color='mediumslateblue', label=f'Energy')\n",
    "ax[1].plot(conservedQuantities[:,0], conservedQuantities[:,2], color='steelblue', label=f'Angular Momentum')\n",
    "ax[1].set_title('Adaptative RK4 Method - Conserved Quantities')\n",
    "ax[1].set_xlabel(r'$t$ [yr]')\n",
    "ax[1].set_ylabel(r'$E, \\ell$')\n",
    "#ax[1].legend()\n",
    "\n",
    "plt.show()"
   ]
  },
  {
   "cell_type": "code",
   "execution_count": 170,
   "metadata": {
    "colab": {
     "base_uri": "https://localhost:8080/"
    },
    "executionInfo": {
     "elapsed": 183,
     "status": "ok",
     "timestamp": 1622989750271,
     "user": {
      "displayName": "Eduard Alexis Larranaga",
      "photoUrl": "https://lh3.googleusercontent.com/a-/AOh14GgCVABzEgj-rCdyxWa29RnA0kIYUCXAaVbnRYOEhQ=s64",
      "userId": "04402438389940282602"
     },
     "user_tz": 300
    },
    "id": "JFhoIHxYhOzt",
    "outputId": "9dd7609f-c1d0-4fb5-dcf9-b19ed5542c2f"
   },
   "outputs": [
    {
     "name": "stdout",
     "output_type": "stream",
     "text": [
      "El cambio en energía es : 8.053647575501088e-07\n",
      "\n",
      "El cambio en momento angular es : 5.766116029093382e-09\n"
     ]
    }
   ],
   "source": [
    "print('El cambio en energía es :', np.abs(conservedQuantities[-1,1] - conservedQuantities[0,1]))\n",
    "print('\\nEl cambio en momento angular es :', np.abs(conservedQuantities[-1,2] - conservedQuantities[0,2]))"
   ]
  },
  {
   "cell_type": "markdown",
   "metadata": {},
   "source": [
    "---\n",
    "\n",
    "Visualizamos la coordenada x mostrando los tiempos en los cuales se calculo la función. Nótese que en efecto el paso de integración cambia, haciendose más corto en la región del perihelio y mas grande en el afelio."
   ]
  },
  {
   "cell_type": "code",
   "execution_count": 171,
   "metadata": {},
   "outputs": [
    {
     "data": {
      "image/png": "[encoded data removed]",
      "text/plain": [
       "<Figure size 1008x360 with 1 Axes>"
      ]
     },
     "metadata": {
      "needs_background": "light"
     },
     "output_type": "display_data"
    }
   ],
   "source": [
    "import matplotlib.pyplot as plt\n",
    "%matplotlib inline\n",
    "\n",
    "fig, ax = plt.subplots(figsize=(14,5))\n",
    "for i in range(1000):\n",
    "    ax.axvline(Q[i,0], color='black', alpha=0.3)\n",
    "ax.plot(Q[:1000,0], Q[:1000,1], color='cornflowerblue')\n",
    "ax.set_title('x-xoordinate showing adaptative steps')\n",
    "ax.set_xlabel(r'$t$ [yr]')\n",
    "ax.set_ylabel(r'$x$ [au]')\n",
    "#ax.legend()\n",
    "\n",
    "plt.show()"
   ]
  },
  {
   "cell_type": "code",
   "execution_count": 64,
   "metadata": {
    "executionInfo": {
     "elapsed": 3305,
     "status": "ok",
     "timestamp": 1622989875954,
     "user": {
      "displayName": "Eduard Alexis Larranaga",
      "photoUrl": "https://lh3.googleusercontent.com/a-/AOh14GgCVABzEgj-rCdyxWa29RnA0kIYUCXAaVbnRYOEhQ=s64",
      "userId": "04402438389940282602"
     },
     "user_tz": 300
    },
    "id": "p148z7lKTlqq"
   },
   "outputs": [],
   "source": [
    "# Save data of the orbit\n",
    "#np.savetxt('comet_orbit.txt', Q, header='t x y vx vy')"
   ]
  },
  {
   "cell_type": "code",
   "execution_count": null,
   "metadata": {},
   "outputs": [],
   "source": []
  }
 ],
 "metadata": {
  "colab": {
   "collapsed_sections": [],
   "name": "Motion of a Comet [optim].ipynb",
   "provenance": []
  },
  "kernelspec": {
   "display_name": "Python 3 (ipykernel)",
   "language": "python",
   "name": "python3"
  },
  "language_info": {
   "codemirror_mode": {
    "name": "ipython",
    "version": 3
   },
   "file_extension": ".py",
   "mimetype": "text/x-python",
   "name": "python",
   "nbconvert_exporter": "python",
   "pygments_lexer": "ipython3",
   "version": "3.9.5"
  }
 },
 "nbformat": 4,
 "nbformat_minor": 1
}
